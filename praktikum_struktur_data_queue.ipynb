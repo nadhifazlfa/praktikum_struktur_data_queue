{
  "nbformat": 4,
  "nbformat_minor": 0,
  "metadata": {
    "colab": {
      "provenance": [],
      "authorship_tag": "ABX9TyMuESpPfbgBy7yz7OFXj1la",
      "include_colab_link": true
    },
    "kernelspec": {
      "name": "python3",
      "display_name": "Python 3"
    },
    "language_info": {
      "name": "python"
    }
  },
  "cells": [
    {
      "cell_type": "markdown",
      "metadata": {
        "id": "view-in-github",
        "colab_type": "text"
      },
      "source": [
        "<a href=\"https://colab.research.google.com/github/nadhifazlfa/praktikum_struktur_data_queue/blob/main/praktikum_struktur_data_queue.ipynb\" target=\"_parent\"><img src=\"https://colab.research.google.com/assets/colab-badge.svg\" alt=\"Open In Colab\"/></a>"
      ]
    },
    {
      "cell_type": "code",
      "execution_count": null,
      "metadata": {
        "colab": {
          "base_uri": "https://localhost:8080/"
        },
        "id": "OZCGd-gNRY9C",
        "outputId": "7f1bfbe1-e696-4b80-e55d-6e87473a9c11"
      },
      "outputs": [
        {
          "output_type": "stream",
          "name": "stdout",
          "text": [
            "Queue setelah enqueue: [10, 20, 30]\n",
            "Dequeue element: 10\n",
            "Front element: 30\n",
            "Queue size: 2\n"
          ]
        }
      ],
      "source": [
        "# Implementasi Queue menggunakan List\n",
        "class QueueList:\n",
        "    def __init__(self):\n",
        "        self.queue = []\n",
        "\n",
        "    def enqueue(self, item):\n",
        "        self.queue.append(item)\n",
        "\n",
        "    def dequeue(self):\n",
        "        if not self.is_empty():\n",
        "            return self.queue.pop(0)\n",
        "        return None\n",
        "\n",
        "    def front(self):\n",
        "        return self.queue[-1] if not self.is_empty() else None\n",
        "\n",
        "    def rear(self):\n",
        "        return self.queue[-1] if not self.is_empty() else None\n",
        "\n",
        "    def is_empty(self):\n",
        "        return len(self.queue) == 0\n",
        "\n",
        "    def size(self):\n",
        "        return len(self.queue)\n",
        "\n",
        "# Contoh penggunaan\n",
        "queue = QueueList()\n",
        "queue.enqueue(10)\n",
        "queue.enqueue(20)\n",
        "queue.enqueue(30)\n",
        "print(\"Queue setelah enqueue:\", queue.queue)\n",
        "print(\"Dequeue element:\", queue.dequeue())\n",
        "print(\"Front element:\", queue.rear())\n",
        "print(\"Queue size:\", queue.size())"
      ]
    },
    {
      "cell_type": "code",
      "source": [
        "from collections import deque\n",
        "\n",
        "# Implementasi Queue mengunakan deque\n",
        "class QueueDequeue:\n",
        "    def __init__(self):\n",
        "        self.queue = deque()\n",
        "\n",
        "    def enqueue(self, item):\n",
        "        self.queue.append(item)\n",
        "\n",
        "    def dequeue(self):\n",
        "        return self.queue.popleft() if not self.is_empty() else None\n",
        "\n",
        "    def front(self):\n",
        "        return self.queue[0] if not self.is_empty() else None\n",
        "\n",
        "    def rear(self):\n",
        "        return self.queue[-1] if not self.is_empty() else None\n",
        "\n",
        "    def is_empty(self):\n",
        "        return len(self.queue) == 0\n",
        "\n",
        "    def size(self):\n",
        "        return len(self.queue)\n",
        "\n",
        "# Contoh penggunaan\n",
        "queue = QueueDequeue()\n",
        "queue.enqueue(10)\n",
        "queue.enqueue(20)\n",
        "queue.enqueue(30)\n",
        "print(\"Queue setelah enqueue:\", list(queue.queue))\n",
        "print(\"Dequeued element:\", queue.front())\n",
        "print(\"Front element:\", queue.front())\n",
        "print(\"Rear element:\", queue.rear())\n",
        "print(\"Queue size:\", queue.size())"
      ],
      "metadata": {
        "colab": {
          "base_uri": "https://localhost:8080/"
        },
        "id": "2w-oAKRpTsot",
        "outputId": "81e636d1-d1c5-4b05-b2ec-9b06638acdc7"
      },
      "execution_count": null,
      "outputs": [
        {
          "output_type": "stream",
          "name": "stdout",
          "text": [
            "Queue setelah enqueue: [10, 20, 30]\n",
            "Dequeued element: 10\n",
            "Front element: 10\n",
            "Rear element: 30\n",
            "Queue size: 3\n"
          ]
        }
      ]
    },
    {
      "cell_type": "code",
      "source": [
        "from queue import Queue\n",
        "\n",
        "# Implementasi Queue menggunakan queue.Queue\n",
        "queue = Queue()\n",
        "\n",
        "queue.put(10)\n",
        "queue.put(20)\n",
        "queue.put(30)\n",
        "\n",
        "print(\"Queue size:\", queue.qsize())\n",
        "print(\"Dequeued element:\", queue.get())\n",
        "print(\"Queue size setelah dequeue:\", queue.qsize())"
      ],
      "metadata": {
        "colab": {
          "base_uri": "https://localhost:8080/"
        },
        "id": "cpmJRxG6VGCN",
        "outputId": "0c33e7d8-5860-466f-f511-55132bfa8fb3"
      },
      "execution_count": null,
      "outputs": [
        {
          "output_type": "stream",
          "name": "stdout",
          "text": [
            "Queue size: 3\n",
            "Dequeued element: 10\n",
            "Queue size setelah dequeue: 2\n"
          ]
        }
      ]
    },
    {
      "cell_type": "code",
      "source": [
        "class Node:\n",
        "  def __init__(self, data):\n",
        "      self.data = data\n",
        "      self.next = None\n",
        "\n",
        "class QueueLinkedList:\n",
        "  def __init__(self):\n",
        "      self.front = self.rear = None\n",
        "\n",
        "  def enqueue(self, data):\n",
        "      new_node = Node(data)\n",
        "      if self.rear is None:\n",
        "          self.front = self.rear = new_node\n",
        "          return\n",
        "      self.rear.next = new_node\n",
        "      self.rear = new_node\n",
        "\n",
        "  def dequeue(self):\n",
        "    if self.front is None:\n",
        "         return None\n",
        "    dequeued_element = self.front.data\n",
        "    self.front = self.front.next\n",
        "    if self.front is None:\n",
        "          self.rear = None\n",
        "    return dequeued_element\n",
        "\n",
        "  def is_empty(self):\n",
        "    return self.front is None\n",
        "\n",
        "  def is_empty(self):\n",
        "    return self.front is None\n",
        "\n",
        "  def front_element(self):\n",
        "    return self.front.data if self.front else None\n",
        "\n",
        "  def rear_element(self):\n",
        "    return self.rear.data if self.rear else None\n",
        "\n",
        "# Contoh penggunaan\n",
        "queue = QueueLinkedList()\n",
        "queue.enqueue(10)\n",
        "queue.enqueue(20)\n",
        "queue.enqueue(30)\n",
        "print(\"Dequeued element:\", queue.dequeue())\n",
        "print(\"Front element:\", queue.front_element())\n",
        "print(\"Rear element:\", queue.rear_element())\n",
        "\n",
        "\n"
      ],
      "metadata": {
        "colab": {
          "base_uri": "https://localhost:8080/"
        },
        "id": "Xb-t5J6AXGdb",
        "outputId": "99e870f9-f00a-4c0a-d9ff-9edb995a7e18"
      },
      "execution_count": null,
      "outputs": [
        {
          "output_type": "stream",
          "name": "stdout",
          "text": [
            "Dequeued element: 10\n",
            "Front element: 20\n",
            "Rear element: 30\n"
          ]
        }
      ]
    },
    {
      "cell_type": "code",
      "source": [
        "# Latihan/Tugas 1\n",
        "# Antrian Pemesanan Tiket Bioskop\n",
        "\n",
        "\n",
        "class TicketQueue:\n",
        "    def __init__(self, capacity=10):\n",
        "        self.queue = []\n",
        "        self.capacity = capacity\n",
        "\n",
        "    def enqueue(self, ticket_id):\n",
        "        if len(self.queue) < self.capacity:\n",
        "            if '7' in ticket_id:  # VIP Customer langsung mendapatkan kursi\n",
        "                print(f\"{ticket_id} adalah VIP Customer dan langsung mendapatkan kursi.\")\n",
        "            else:\n",
        "                self.queue.append(ticket_id)\n",
        "                print(f\"{ticket_id} telah ditambahkan ke dalam antrean.\")\n",
        "        else:\n",
        "            print(\"Antrean penuh, pelanggan harus menunggu.\")\n",
        "\n",
        "    def dequeue(self):\n",
        "        if not self.is_empty():\n",
        "            served = self.queue.pop(0)\n",
        "            print(f\"{served} telah dilayani dan keluar dari antrean.\")\n",
        "        else:\n",
        "            print(\"Antrean kosong, tidak ada yang bisa dilayani.\")\n",
        "\n",
        "    def front(self):\n",
        "        if not self.is_empty():\n",
        "            return self.queue[0]\n",
        "        return \"Antrean kosong\"\n",
        "\n",
        "    def rear(self):\n",
        "        if not self.is_empty():\n",
        "            return self.queue[-1]\n",
        "        return \"Antrean kosong\"\n",
        "\n",
        "    def is_empty(self):\n",
        "        return len(self.queue) == 0\n",
        "\n",
        "    def size(self):\n",
        "        return len(self.queue)\n",
        "\n",
        "# Contoh penggunaan\n",
        "ticket_queue = TicketQueue()\n",
        "ticket_queue.enqueue(\"NA12\")  # Ditambahkan ke antrean\n",
        "ticket_queue.enqueue(\"AR29\")  # VIP Customer langsung dapat kursi\n",
        "ticket_queue.enqueue(\"AN18\")  # Ditambahkan ke antrean\n",
        "ticket_queue.dequeue()  # Melayani pelanggan pertama\n",
        "ticket_queue.enqueue(\"NA17\")  # Ditambahkan ke antrean\n",
        "ticket_queue.dequeue()  # Melayani pelanggan berikutnya\n",
        "print(\"Pelanggan di depan antrean:\", ticket_queue.front())\n",
        "print(\"Pelanggan di akhir antrean:\", ticket_queue.rear())\n",
        "print(\"Jumlah pelanggan dalam antrean:\", ticket_queue.size())"
      ],
      "metadata": {
        "colab": {
          "base_uri": "https://localhost:8080/"
        },
        "id": "aPRW4gNy6wRb",
        "outputId": "b83b122f-2e21-4137-9bae-9abfb3f335e0"
      },
      "execution_count": 5,
      "outputs": [
        {
          "output_type": "stream",
          "name": "stdout",
          "text": [
            "NA12 telah ditambahkan ke dalam antrean.\n",
            "AR29 telah ditambahkan ke dalam antrean.\n",
            "AN18 telah ditambahkan ke dalam antrean.\n",
            "NA12 telah dilayani dan keluar dari antrean.\n",
            "NA17 adalah VIP Customer dan langsung mendapatkan kursi.\n",
            "AR29 telah dilayani dan keluar dari antrean.\n",
            "Pelanggan di depan antrean: AN18\n",
            "Pelanggan di akhir antrean: AN18\n",
            "Jumlah pelanggan dalam antrean: 1\n"
          ]
        }
      ]
    },
    {
      "cell_type": "code",
      "source": [
        "# Latihan \\Tugas 2\n",
        "\n",
        "\n",
        "class PhotocopyQueue:\n",
        "    def __init__(self):\n",
        "        self.queue = []\n",
        "\n",
        "    def enqueue(self, order_id, num_pages):\n",
        "        if num_pages < 10:  # Fast Track: langsung diproses\n",
        "            print(f\"Pesanan {order_id} dengan {num_pages} halaman langsung diproses tanpa antrean.\")\n",
        "        else:\n",
        "            self.queue.append((order_id, num_pages))\n",
        "            print(f\"Pesanan {order_id} dengan {num_pages} halaman ditambahkan ke antrean.\")\n",
        "\n",
        "    def dequeue(self):\n",
        "        if not self.is_empty():\n",
        "            order_id, num_pages = self.queue.pop(0)\n",
        "            if num_pages > 100:  # Proses dalam dua tahap\n",
        "                remaining_pages = num_pages - 100\n",
        "                self.queue.insert(0, (order_id, remaining_pages))\n",
        "                print(f\"Pesanan {order_id} diproses 100 halaman pertama, sisa {remaining_pages} halaman tetap dalam antrean.\")\n",
        "            else:\n",
        "                print(f\"Pesanan {order_id} dengan {num_pages} halaman telah diproses dan keluar dari antrean.\")\n",
        "        else:\n",
        "            print(\"Antrean kosong, tidak ada pesanan yang bisa diproses.\")\n",
        "\n",
        "    def front(self):\n",
        "        if not self.is_empty():\n",
        "            return self.queue[0]\n",
        "        return \"Antrean kosong\"\n",
        "\n",
        "    def rear(self):\n",
        "        if not self.is_empty():\n",
        "            return self.queue[-1]\n",
        "        return \"Antrean kosong\"\n",
        "\n",
        "    def is_empty(self):\n",
        "        return len(self.queue) == 0\n",
        "\n",
        "    def size(self):\n",
        "        return len(self.queue)\n",
        "\n",
        "# Contoh penggunaan\n",
        "photocopy_queue = PhotocopyQueue()\n",
        "photocopy_queue.enqueue(\"NAD12\", 5)  # Fast Track\n",
        "photocopy_queue.enqueue(\"NAD12\", 120)  # Masuk antrean, diproses dua tahap\n",
        "photocopy_queue.enqueue(\"NAD12\", 30)  # Masuk antrean\n",
        "photocopy_queue.dequeue()  # Melayani pesanan pertama\n",
        "photocopy_queue.enqueue(\"NAD12\", 8)  # Fast Track\n",
        "photocopy_queue.dequeue()  # Melayani pesanan berikutnya\n",
        "print(\"Pesanan di depan antrean:\", photocopy_queue.front())\n",
        "print(\"Pesanan di akhir antrean:\", photocopy_queue.rear())\n",
        "print(\"Jumlah pesanan dalam antrean:\", photocopy_queue.size())"
      ],
      "metadata": {
        "colab": {
          "base_uri": "https://localhost:8080/"
        },
        "id": "f7T_AN4SVDRC",
        "outputId": "9c38e0d6-22d2-4878-ba2b-f749e016aa4a"
      },
      "execution_count": 7,
      "outputs": [
        {
          "output_type": "stream",
          "name": "stdout",
          "text": [
            "Pesanan NAD12 dengan 5 halaman langsung diproses tanpa antrean.\n",
            "Pesanan NAD12 dengan 120 halaman ditambahkan ke antrean.\n",
            "Pesanan NAD12 dengan 30 halaman ditambahkan ke antrean.\n",
            "Pesanan NAD12 diproses 100 halaman pertama, sisa 20 halaman tetap dalam antrean.\n",
            "Pesanan NAD12 dengan 8 halaman langsung diproses tanpa antrean.\n",
            "Pesanan NAD12 dengan 20 halaman telah diproses dan keluar dari antrean.\n",
            "Pesanan di depan antrean: ('NAD12', 30)\n",
            "Pesanan di akhir antrean: ('NAD12', 30)\n",
            "Jumlah pesanan dalam antrean: 1\n"
          ]
        }
      ]
    },
    {
      "cell_type": "code",
      "source": [
        "# Latihan/Tugas 3\n",
        "# Antrean Layanan Parkir Mall\n",
        "\n",
        "class Queue:\n",
        "    def __init__(self):\n",
        "        self.items = []\n",
        "\n",
        "    def is_empty(self):\n",
        "        return len(self.items) == 0\n",
        "\n",
        "    def enqueue(self, vehicle_number):\n",
        "        self.items.append(vehicle_number)\n",
        "\n",
        "    def dequeue(self):\n",
        "        if not self.is_empty():\n",
        "            return self.items.pop(0)\n",
        "        return None\n",
        "\n",
        "    def size(self):\n",
        "        return len(self.items)\n",
        "\n",
        "class ParkingLot:\n",
        "    def __init__(self, capacity):\n",
        "        self.capacity = capacity\n",
        "        self.queue = Queue()\n",
        "\n",
        "    def add_vehicle(self, vehicle_number):\n",
        "        if self.queue.size() < self.capacity:\n",
        "            self.queue.enqueue(vehicle_number)\n",
        "            print(f'Kendaraan {vehicle_number} berhasil masuk ke parkiran.')\n",
        "        else:\n",
        "            print('Parkiran penuh! Kendaraan tidak dapat masuk.')\n",
        "\n",
        "    def remove_vehicle(self):\n",
        "        if not self.queue.is_empty():\n",
        "            vehicle_number = self.queue.dequeue()\n",
        "            print(f'Kendaraan {vehicle_number} berhasil keluar dari parkiran.')\n",
        "        else:\n",
        "            print('Tidak ada kendaraan di parkiran.')\n",
        "\n",
        "    def current_vehicles(self):\n",
        "        if self.queue.is_empty():\n",
        "            print('Tidak ada kendaraan di parkiran saat ini.')\n",
        "        else:\n",
        "            print('Kendaraan yang sedang parkir:', self.queue.items)\n",
        "\n",
        "# Contoh penggunaan\n",
        "if __name__ == \"__main__\":\n",
        "    # Inisialisasi parkiran dengan kapasitas 15 kendaraan\n",
        "    parking_lot = ParkingLot(capacity=15)\n",
        "\n",
        "    # Menambahkan kendaraan\n",
        "    parking_lot.add_vehicle('KE12')\n",
        "    parking_lot.add_vehicle('KE12')\n",
        "\n",
        "    # Menampilkan kendaraan yang sedang parkir\n",
        "    parking_lot.current_vehicles()\n",
        "\n",
        "    # Mengeluarkan kendaraan\n",
        "    parking_lot.remove_vehicle()\n",
        "    parking_lot.current_vehicles()\n",
        "\n",
        "    # Coba menambah kendaraan hingga kapasitas penuh\n",
        "    for i in range(13):\n",
        "        parking_lot.add_vehicle(f'KE{i+1}2')\n",
        "\n",
        "    # Coba menambah kendaraan lagi\n",
        "    parking_lot.add_vehicle('KE12')\n"
      ],
      "metadata": {
        "colab": {
          "base_uri": "https://localhost:8080/"
        },
        "id": "w-0H9VufWUHW",
        "outputId": "bda5bc9c-a976-452d-af24-d78125e119a5"
      },
      "execution_count": 4,
      "outputs": [
        {
          "output_type": "stream",
          "name": "stdout",
          "text": [
            "Kendaraan KE12 berhasil masuk ke parkiran.\n",
            "Kendaraan KE12 berhasil masuk ke parkiran.\n",
            "Kendaraan yang sedang parkir: ['KE12', 'KE12']\n",
            "Kendaraan KE12 berhasil keluar dari parkiran.\n",
            "Kendaraan yang sedang parkir: ['KE12']\n",
            "Kendaraan KE12 berhasil masuk ke parkiran.\n",
            "Kendaraan KE22 berhasil masuk ke parkiran.\n",
            "Kendaraan KE32 berhasil masuk ke parkiran.\n",
            "Kendaraan KE42 berhasil masuk ke parkiran.\n",
            "Kendaraan KE52 berhasil masuk ke parkiran.\n",
            "Kendaraan KE62 berhasil masuk ke parkiran.\n",
            "Kendaraan KE72 berhasil masuk ke parkiran.\n",
            "Kendaraan KE82 berhasil masuk ke parkiran.\n",
            "Kendaraan KE92 berhasil masuk ke parkiran.\n",
            "Kendaraan KE102 berhasil masuk ke parkiran.\n",
            "Kendaraan KE112 berhasil masuk ke parkiran.\n",
            "Kendaraan KE122 berhasil masuk ke parkiran.\n",
            "Kendaraan KE132 berhasil masuk ke parkiran.\n",
            "Kendaraan KE12 berhasil masuk ke parkiran.\n"
          ]
        }
      ]
    },
    {
      "cell_type": "code",
      "source": [
        "# Latihan/ Tugas 4\n",
        "class CertificateQueue:\n",
        "  def __init__(self):\n",
        "        self.regular_queue = []\n",
        "        self.achievement_queue = []\n",
        "\n",
        "  def is_empty(self):\n",
        "        return len(self.regular_queue) == 0 and len(self.achievement_queue) == 0\n",
        "\n",
        "  def size(self):\n",
        "        return len(self.regular_queue) + len(self.achievement_queue)\n",
        "\n",
        "  def enqueue(self, student_id, is_achiever=False):\n",
        "      if is_achiever:\n",
        "            print(f\"Mahasiswa {student_id} langsung mengambil sertifikat tanpa antrian!\")\n",
        "      else:\n",
        "            if self.size() >= 20:\n",
        "                self.achievement_queue.append(student_id)\n",
        "                print(f\"Mahasiswa {student_id} masuk ke jalur mahasiswa berprestasi.\")\n",
        "            else:\n",
        "                self.regular_queue.append(student_id)\n",
        "                print(f\"Mahasiswa {student_id} masuk ke antrian reguler.\")\n",
        "\n",
        "  def dequeue(self):\n",
        "        if not self.is_empty():\n",
        "            if self.achievement_queue:\n",
        "                served_student = self.achievement_queue.pop(0)\n",
        "                print(f\"Mahasiswa {served_student} dari jalur prestasi telah mengambil sertifikat.\")\n",
        "            elif self.regular_queue:\n",
        "                served_student = self.regular_queue.pop(0)\n",
        "                print(f\"Mahasiswa {served_student} dari jalur reguler telah mengambil sertifikat.\")\n",
        "        else:\n",
        "            print(\"Antrian kosong, tidak ada mahasiswa untuk dilayani.\")\n",
        "\n",
        "  def front(self):\n",
        "        if not self.is_empty():\n",
        "            if self.achievement_queue:\n",
        "                print(f\"Mahasiswa pertama dalam antrian (jalur prestasi): {self.achievement_queue[0]}\")\n",
        "            elif self.regular_queue:\n",
        "                print(f\"Mahasiswa pertama dalam antrian (jalur reguler): {self.regular_queue[0]}\")\n",
        "        else:\n",
        "            print(\"Antrian kosong.\")\n",
        "\n",
        "\n",
        "  def rear(self):\n",
        "       if not self.is_empty():\n",
        "           if self.regular_queue:\n",
        "                print(f\"Mahasiswa terakhir dalam antrian: {self.regular_queue[-1]}\")\n",
        "           elif self.achievement_queue:\n",
        "                print(f\"Mahasiswa terakhir dalam antrian: {self.achievement_queue[-1]}\")\n",
        "       else:\n",
        "            print(\"Antrian kosong.\")\n",
        "\n",
        "queue = CertificateQueue()\n",
        "print(\"Antrian sertifikat Mahasiswa:\")\n",
        "queue.enqueue(\"TI12\")\n",
        "queue.enqueue(\"TI12\", is_achiever=True)\n",
        "queue.enqueue(\"TI12\")\n",
        "queue.enqueue(\"\")\n",
        "print(\"\\n\")\n",
        "print(\"Jalan antrian sertifikat Mahasiswa:\")\n",
        "queue.front()\n",
        "queue.rear()\n",
        "print(\"\\n\")\n",
        "print(\"Proses sertifikat Mahasiswa:\")\n",
        "queue.dequeue()\n",
        "print(\"\\n\")\n",
        "print(\"Banyak antrian saat ini:\")\n",
        "queue.size()\n",
        "\n",
        "\n"
      ],
      "metadata": {
        "colab": {
          "base_uri": "https://localhost:8080/"
        },
        "id": "Q2EMsUS_n1FZ",
        "outputId": "9c5e7dfd-f20b-4591-a833-59481a51bba5"
      },
      "execution_count": 6,
      "outputs": [
        {
          "output_type": "stream",
          "name": "stdout",
          "text": [
            "Antrian sertifikat Mahasiswa:\n",
            "Mahasiswa TI12 masuk ke antrian reguler.\n",
            "Mahasiswa TI12 langsung mengambil sertifikat tanpa antrian!\n",
            "Mahasiswa TI12 masuk ke antrian reguler.\n",
            "Mahasiswa  masuk ke antrian reguler.\n",
            "\n",
            "\n",
            "Jalan antrian sertifikat Mahasiswa:\n",
            "Mahasiswa pertama dalam antrian (jalur reguler): TI12\n",
            "Mahasiswa terakhir dalam antrian: \n",
            "\n",
            "\n",
            "Proses sertifikat Mahasiswa:\n",
            "Mahasiswa TI12 dari jalur reguler telah mengambil sertifikat.\n",
            "\n",
            "\n",
            "Banyak antrian saat ini:\n"
          ]
        },
        {
          "output_type": "execute_result",
          "data": {
            "text/plain": [
              "2"
            ]
          },
          "metadata": {},
          "execution_count": 6
        }
      ]
    }
  ]
}